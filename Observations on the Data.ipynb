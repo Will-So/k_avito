{
 "cells": [
  {
   "cell_type": "markdown",
   "metadata": {},
   "source": [
    "# How the Data is related"
   ]
  },
  {
   "cell_type": "markdown",
   "metadata": {},
   "source": [
    "![](https://dl.dropboxusercontent.com/u/97258109/Screens/S3254.png)"
   ]
  },
  {
   "cell_type": "markdown",
   "metadata": {},
   "source": [
    "# The Size of the Datasets"
   ]
  },
  {
   "cell_type": "markdown",
   "metadata": {},
   "source": [
    "| File Name                    | Available Formats |\n",
    "|------------------------------|-------------------| \n",
    "| UserInfo.tsv                 | .7z (12.09 mb)    | \n",
    "| Category.tsv                 | .7z (479 b)       |\n",
    "| Location.tsv                 | .7z (17.11 kb)    |\n",
    "| PhoneRequestsStream.tsv      | .7z (112.45 mb)   |\n",
    "| testSearchStream.tsv         | .7z (97.28 mb)    |\n",
    "| sampleSubmission.csv         | .7z (4.90 mb)     |\n",
    "| sampleSubmission_HistCTR.csv | .7z (29.08 mb)    |\n",
    "| AdsInfo.tsv                  | .7z (674.13 mb)   |\n",
    "| VisitsStream.tsv             | .7z (1.99 gb)     |\n",
    "| trainSearchStream.tsv        | .7z (2.12 gb)     |\n",
    "| SearchInfo.tsv               | .7z (1.69 gb)     |\n",
    "| database.sqlite              | .7z (11.06 gb)    |"
   ]
  },
  {
   "cell_type": "markdown",
   "metadata": {},
   "source": [
    "# The Main Datasets"
   ]
  },
  {
   "cell_type": "markdown",
   "metadata": {},
   "source": [
    "`testSearchStream` is the test dataset and has the `isClick` omitted. `trainSearchStream` is the same file and has the `isClick` field there. `testSeachStream` is 2.12GB. "
   ]
  },
  {
   "cell_type": "markdown",
   "metadata": {},
   "source": [
    "## Search Stream"
   ]
  },
  {
   "cell_type": "markdown",
   "metadata": {},
   "source": [
    "- SearchID - identifier for a visitors's search event.\n",
    "- Ad ID - identifier of the ad (see also ad description in AdsInfo.tsv).\n",
    "- Position - position of the ad in search result page (1 - is first ad on a page starting from the top). Only ads on position 1, 2, 6, 7, and 8 are logged.\n",
    "- ObjectType - type of the ad shown to user. The options are: 1 - regular free ads added by users; 2 - highlighted regular (owners have to pay fixed price to highlight them and stick to the top for some period of time); 3 - contextual ads (owners have to pay per visitor's click).\n",
    "- HistCTR - some naive history-based estimation of click-through rate for contextual ads, calculated when the ad is showed. For non-contextual ads this field equals NULL.\n",
    "- IsClick - 1 if there was a click on this ad. Otherwise 0. For non-contextual ads this field equals NULL. The goal of this competition is to make a click prediction model for contextual ads.\n"
   ]
  },
  {
   "cell_type": "markdown",
   "metadata": {},
   "source": [
    "## VisitsStream"
   ]
  },
  {
   "cell_type": "markdown",
   "metadata": {},
   "source": [
    "These are visits to the non-contextual ad landing pages. Clicking on the phone request indicates a high level of interest on the ad. \n",
    "\n",
    "- UserID - anonymized identifier of visitor's cookie (see also UserInfo.tsv).\n",
    "- IPID - anonymized identifier of visitor's IP.\n",
    "- AdID - identity of the ad's landing page visited by user (see also AdsInfo.tsv).\n",
    "- ViewDate - date and time of viewing the ad. (Visit Stream only)\n",
    "- PhoneRequestDate - date and time of the phone request event. (PhoneStream only)\n",
    "\n",
    "\n",
    "Do we really need these? \n"
   ]
  }
 ],
 "metadata": {
  "kernelspec": {
   "display_name": "Python 2",
   "language": "python",
   "name": "python2"
  },
  "language_info": {
   "codemirror_mode": {
    "name": "ipython",
    "version": 2
   },
   "file_extension": ".py",
   "mimetype": "text/x-python",
   "name": "python",
   "nbconvert_exporter": "python",
   "pygments_lexer": "ipython2",
   "version": "2.7.10"
  }
 },
 "nbformat": 4,
 "nbformat_minor": 0
}
