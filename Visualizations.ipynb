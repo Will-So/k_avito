{
 "cells": [
  {
   "cell_type": "markdown",
   "metadata": {},
   "source": [
    "# Getting the Data into Tableau"
   ]
  },
  {
   "cell_type": "markdown",
   "metadata": {},
   "source": [
    "- It is likely that transferring the data from the `csv` files that we will be getting at the end to something else.\n",
    "- The most straightforward way to do this seems like it is going to be to use ODO to change it to a file that Tableau likes. \n",
    "- sequel is another option to convert between databases\n",
    "- [here](https://blog.scraperwiki.com/2013/08/adventures-in-tableau-loading-files/) is a good guide "
   ]
  }
 ],
 "metadata": {
  "kernelspec": {
   "display_name": "Python 2",
   "language": "python",
   "name": "python2"
  },
  "language_info": {
   "codemirror_mode": {
    "name": "ipython",
    "version": 2
   },
   "file_extension": ".py",
   "mimetype": "text/x-python",
   "name": "python",
   "nbconvert_exporter": "python",
   "pygments_lexer": "ipython2",
   "version": "2.7.10"
  }
 },
 "nbformat": 4,
 "nbformat_minor": 0
}
